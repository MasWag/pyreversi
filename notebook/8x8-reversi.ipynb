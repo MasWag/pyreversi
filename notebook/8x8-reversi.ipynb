{
 "cells": [
  {
   "cell_type": "markdown",
   "metadata": {
    "collapsed": true,
    "pycharm": {
     "name": "#%% md\n"
    }
   },
   "source": [
    "8x8 Reversi\n",
    "==========\n",
    "\n",
    "This is an example notebook to play the usual 8x8 Reversi using `pyreversi`."
   ]
  },
  {
   "cell_type": "code",
   "execution_count": null,
   "metadata": {
    "pycharm": {
     "name": "#%%\n"
    },
    "scrolled": false
   },
   "outputs": [],
   "source": [
    "import random\n",
    "import itertools\n",
    "from pyreversi.piece import Players\n",
    "from pyreversi.board import EvenSizeBoard\n",
    "\n",
    "ego_player = Players.Black\n",
    "# initialize the board\n",
    "board = EvenSizeBoard(8)\n",
    "\n",
    "skipped = {\n",
    "    Players.Black: False,\n",
    "    Players.White: False\n",
    "}\n",
    "\n",
    "while not skipped[Players.Black] or not skipped[Players.White]:\n",
    "    print(board.str_render())\n",
    "    # List the valid positions\n",
    "    valid_positions = [(x, y) for x, y in itertools.product(range(board.size), range(board.size))\n",
    "                       if board.valid(x, y, board.turn)]\n",
    "    if len(valid_positions) == 0:\n",
    "        skipped[board.turn] = True\n",
    "        print(f'{board.turn}' skipped)\n",
    "        board.turn = Players.Black if board.turn == Players.White else Players.White\n",
    "        continue\n",
    "    skipped[board.turn] = False\n",
    "    if board.turn == ego_player:\n",
    "        while True:\n",
    "            print('Where to place the piece?: ')\n",
    "            line = input().split()\n",
    "            x = int(line[0])\n",
    "            y = int(line[1])\n",
    "            try:\n",
    "                board.place(x, y)\n",
    "            except ValueError:\n",
    "                print('Invalid position is given.')\n",
    "                continue\n",
    "            break\n",
    "    else:\n",
    "        x, y = random.choice(valid_positions)\n",
    "        board.place(x, y)\n",
    "\n",
    "#  Count the number of pieces\n",
    "board_str = board.str_render()\n",
    "black_count = board_str.count('B')\n",
    "white_count = board_str.count('W')\n",
    "if black_count < white_count:\n",
    "    print('Winner: white')\n",
    "elif black_count > white_count:\n",
    "    print('Winner: black')\n",
    "else:\n",
    "    print('Draw')"
   ]
  },
  {
   "cell_type": "code",
   "execution_count": null,
   "metadata": {},
   "outputs": [],
   "source": []
  }
 ],
 "metadata": {
  "kernelspec": {
   "display_name": "Python 3 (ipykernel)",
   "language": "python",
   "name": "python3"
  },
  "language_info": {
   "codemirror_mode": {
    "name": "ipython",
    "version": 3
   },
   "file_extension": ".py",
   "mimetype": "text/x-python",
   "name": "python",
   "nbconvert_exporter": "python",
   "pygments_lexer": "ipython3",
   "version": "3.9.13"
  }
 },
 "nbformat": 4,
 "nbformat_minor": 1
}
