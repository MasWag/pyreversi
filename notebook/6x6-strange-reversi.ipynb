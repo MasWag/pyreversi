{
 "cells": [
  {
   "cell_type": "markdown",
   "metadata": {
    "collapsed": true,
    "pycharm": {
     "name": "#%% md\n"
    }
   },
   "source": [
    "6x6 Special Reversi\n",
    "================\n",
    "\n",
    "This is an example notebook to play a 6x6 Reversi with the following special pieces.\n",
    "\n",
    "- Each player can use `OppositePiece` and `OppositeNoReversePiece` in addition to the usual pieces.\n",
    "    - `OppositePiece`: a usual piece but the initial owner is the opposite\n",
    "    - `OppositeNoReversePiece`: a piece that cannot be reversed (i.e. reverse of Black is also Black) + the initial owner is the opposite\n",
    "- Each unusual piece can be used only once by each player."
   ]
  },
  {
   "cell_type": "code",
   "execution_count": null,
   "metadata": {
    "pycharm": {
     "name": "#%%\n"
    },
    "scrolled": false
   },
   "outputs": [],
   "source": [
    "import random\n",
    "import itertools\n",
    "from pyreversi.piece import Players, OppositePiece, OppositeNoReversePiece\n",
    "from pyreversi.board import EvenSizeBoard\n",
    "\n",
    "ego_player = Players.Black\n",
    "# initialize the board\n",
    "board = EvenSizeBoard(6)\n",
    "\n",
    "skipped = {\n",
    "    Players.Black: False,\n",
    "    Players.White: False\n",
    "}\n",
    "\n",
    "available_piece_counts = {\n",
    "    Players.Black: {\n",
    "        \"OppositePiece\": 1,\n",
    "        \"OppositeNoReversePiece\": 1\n",
    "    },\n",
    "    Players.White: {\n",
    "        \"OppositePiece\": 1,\n",
    "        \"OppositeNoReversePiece\": 1\n",
    "    }\n",
    "}\n",
    "\n",
    "while not skipped[Players.Black] or not skipped[Players.White]:\n",
    "    print(board.str_render())\n",
    "    # List the valid positions\n",
    "    valid_positions = [(x, y) for x, y in itertools.product(range(board.size), range(board.size))\n",
    "                       if board.valid(x, y, board.turn)]\n",
    "    if len(valid_positions) == 0:\n",
    "        skipped[board.turn] = True\n",
    "        print(f'{board.turn} skipped')\n",
    "        board.turn = Players.Black if board.turn == Players.White else Players.White\n",
    "        continue\n",
    "    skipped[board.turn] = False\n",
    "    if board.turn == ego_player:\n",
    "        while True:\n",
    "            print('Where to place the piece?: ')\n",
    "            print(f'Available special pieces: {available_piece_counts[board.turn]}')\n",
    "            line = input().split()\n",
    "            x = int(line[0])\n",
    "            y = int(line[1])\n",
    "            try:\n",
    "                if len(line) == 2:\n",
    "                    board.place(x, y)\n",
    "                else:\n",
    "                    if line[2] == 'n' and available_piece_counts[board.turn][\"OppositeNoReversePiece\"] > 0:\n",
    "                        board.place(x, y, OppositeNoReversePiece)\n",
    "                        print('Use OppositeNoReversePiece')\n",
    "                        available_piece_counts[ego_player][\"OppositeNoReversePiece\"] -= 1\n",
    "                    elif line[2] == 'o' and available_piece_counts[board.turn][\"OppositePiece\"] > 0:\n",
    "                        board.place(x, y, OppositePiece)\n",
    "                        print('Use OppositePiece')\n",
    "                        available_piece_counts[ego_player][\"OppositePiece\"] -= 1\n",
    "            except ValueError:\n",
    "                print('Invalid position is given.')\n",
    "                continue\n",
    "            break\n",
    "    else:\n",
    "        x, y = random.choice(valid_positions)\n",
    "        if available_piece_counts[board.turn]['OppositeNoReversePiece'] > 0 and random.random() < 0.1:\n",
    "            print('Use OppositeNoReversePiece')\n",
    "            available_piece_counts[board.turn]['OppositeNoReversePiece'] -= 1\n",
    "            board.place(x, y, OppositeNoReversePiece)\n",
    "        elif available_piece_counts[board.turn]['OppositePiece'] > 0 and random.random() < 0.1:\n",
    "            available_piece_counts[board.turn]['OppositePiece'] -= 1\n",
    "            board.place(x, y, OppositePiece)\n",
    "        else:\n",
    "            board.place(x, y)\n",
    "\n",
    "\n",
    "#  Count the number of pieces\n",
    "board_str = board.str_render()\n",
    "black_count = board_str.count('B')\n",
    "white_count = board_str.count('W')\n",
    "if black_count < white_count:\n",
    "    print('Winner: white')\n",
    "elif black_count > white_count:\n",
    "    print('Winner: black')\n",
    "else:\n",
    "    print('Draw')"
   ]
  },
  {
   "cell_type": "code",
   "execution_count": null,
   "metadata": {},
   "outputs": [],
   "source": []
  }
 ],
 "metadata": {
  "kernelspec": {
   "display_name": "Python 3 (ipykernel)",
   "language": "python",
   "name": "python3"
  },
  "language_info": {
   "codemirror_mode": {
    "name": "ipython",
    "version": 3
   },
   "file_extension": ".py",
   "mimetype": "text/x-python",
   "name": "python",
   "nbconvert_exporter": "python",
   "pygments_lexer": "ipython3",
   "version": "3.9.13"
  }
 },
 "nbformat": 4,
 "nbformat_minor": 1
}